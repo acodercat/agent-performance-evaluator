{
 "cells": [
  {
   "cell_type": "code",
   "execution_count": 1,
   "id": "8077f70a",
   "metadata": {},
   "outputs": [],
   "source": [
    "import json"
   ]
  },
  {
   "cell_type": "code",
   "execution_count": 2,
   "id": "35733657",
   "metadata": {},
   "outputs": [],
   "source": [
    "import json\n",
    "\n",
    "results_file = \"Qwen3_results/BFCL_v3_simple_Qwen3_results.json\"\n",
    "result_obj = []\n",
    "\n",
    "try:\n",
    "    with open(results_file, 'r', encoding='utf-8') as f:\n",
    "        for i, line in enumerate(f):\n",
    "            # 跳过空行\n",
    "            if line.strip():\n",
    "                try:\n",
    "                    result_obj.append(json.loads(line))\n",
    "                except json.JSONDecodeError:\n",
    "                    print(f\"警告: 第 {i+1} 行不是有效的JSON，已跳过。\")\n",
    "except FileNotFoundError:\n",
    "    print(f\"错误: 文件 '{results_file}' 未找到。请检查文件路径。\")\n",
    "\n",
    "# print(len(result_obj)) # 可以打印一下看看成功加载了多少个对象"
   ]
  },
  {
   "cell_type": "code",
   "execution_count": 3,
   "id": "256152cd",
   "metadata": {},
   "outputs": [
    {
     "data": {
      "text/plain": [
       "True"
      ]
     },
     "execution_count": 3,
     "metadata": {},
     "output_type": "execute_result"
    }
   ],
   "source": [
    "result_obj[14][\"conversations\"][0][\"turns\"][0][\"success\"]"
   ]
  },
  {
   "cell_type": "code",
   "execution_count": 4,
   "id": "a4d50aa8",
   "metadata": {},
   "outputs": [
    {
     "data": {
      "text/plain": [
       "{'scenario': 'simple_14',\n",
       " 'conversations': [{'id': 'simple_14_conversation',\n",
       "   'turns': [{'query': 'Calculate the derivative of the function 3x^2 + 2x - 1.',\n",
       "     'reference_response': '',\n",
       "     'actual_response': 'The derivative of the function $ 3x^2 + 2x - 1 $ is $ 6x + 2 $.',\n",
       "     'expected_calls': [{'name': 'calculate_derivative',\n",
       "       'required': True,\n",
       "       'arguments': [{'name': 'function',\n",
       "         'value': ['3x**2 + 2x - 1', 'lambda x: 3x**2 + 2x - 1'],\n",
       "         'type': 'str',\n",
       "         'required': True},\n",
       "        {'name': 'x_value',\n",
       "         'value': ['', 0.0],\n",
       "         'type': 'float',\n",
       "         'required': False}]}],\n",
       "     'actual_calls': [{'function': 'calculate_derivative',\n",
       "       'arguments': {'function': '3x^2 + 2x - 1', 'x_value': None},\n",
       "       'call_id': 1}],\n",
       "     'validation_errors': [],\n",
       "     'metrics': {'missing_calls': 0,\n",
       "      'wrong_argument_types': 0,\n",
       "      'wrong_argument_values': 0,\n",
       "      'missing_arguments': 0,\n",
       "      'steps': 2},\n",
       "     'success': True}]}],\n",
       " 'metrics': {'total_turns': 1,\n",
       "  'successful_turns': 1,\n",
       "  'failed_turns': 0,\n",
       "  'total_expected_calls': 1,\n",
       "  'total_actual_calls': 1,\n",
       "  'missing_calls': 0,\n",
       "  'wrong_argument_values': 0,\n",
       "  'wrong_argument_types': 0,\n",
       "  'missing_arguments': 0,\n",
       "  'wrong_argument_names': 0,\n",
       "  'total_steps': 2,\n",
       "  'success_rate': 1.0},\n",
       " 'scenario_name': 'simple_14'}"
      ]
     },
     "execution_count": 4,
     "metadata": {},
     "output_type": "execute_result"
    }
   ],
   "source": [
    "result_obj[14]"
   ]
  },
  {
   "cell_type": "code",
   "execution_count": 5,
   "id": "8a04ce41",
   "metadata": {},
   "outputs": [],
   "source": [
    "count = 0\n",
    "faild_list = []\n",
    "error = 0\n",
    "for i in range(len(result_obj)):\n",
    "    try:\n",
    "        if result_obj[i][\"conversations\"][0][\"turns\"][0][\"success\"] == False:\n",
    "            count+=1\n",
    "            faild_list.append(i)\n",
    "    except:\n",
    "        error+=1"
   ]
  },
  {
   "cell_type": "code",
   "execution_count": 6,
   "id": "fa000b3a",
   "metadata": {},
   "outputs": [
    {
     "data": {
      "text/plain": [
       "0"
      ]
     },
     "execution_count": 6,
     "metadata": {},
     "output_type": "execute_result"
    }
   ],
   "source": [
    "error"
   ]
  },
  {
   "cell_type": "code",
   "execution_count": 7,
   "id": "16496c4e",
   "metadata": {},
   "outputs": [
    {
     "data": {
      "text/plain": [
       "1"
      ]
     },
     "execution_count": 7,
     "metadata": {},
     "output_type": "execute_result"
    }
   ],
   "source": [
    "count"
   ]
  },
  {
   "cell_type": "code",
   "execution_count": 8,
   "id": "b533a5b4",
   "metadata": {},
   "outputs": [
    {
     "ename": "IndexError",
     "evalue": "list index out of range",
     "output_type": "error",
     "traceback": [
      "\u001b[31m---------------------------------------------------------------------------\u001b[39m",
      "\u001b[31mIndexError\u001b[39m                                Traceback (most recent call last)",
      "\u001b[36mCell\u001b[39m\u001b[36m \u001b[39m\u001b[32mIn[8]\u001b[39m\u001b[32m, line 2\u001b[39m\n\u001b[32m      1\u001b[39m i = \u001b[32m10\u001b[39m\n\u001b[32m----> \u001b[39m\u001b[32m2\u001b[39m \u001b[38;5;28mprint\u001b[39m(result_obj[\u001b[43mfaild_list\u001b[49m\u001b[43m[\u001b[49m\u001b[43mi\u001b[49m\u001b[43m]\u001b[49m][\u001b[33m\"\u001b[39m\u001b[33mscenario\u001b[39m\u001b[33m\"\u001b[39m])\n\u001b[32m      3\u001b[39m \u001b[38;5;28mprint\u001b[39m(result_obj[faild_list[i]][\u001b[33m\"\u001b[39m\u001b[33mconversations\u001b[39m\u001b[33m\"\u001b[39m][\u001b[32m0\u001b[39m][\u001b[33m\"\u001b[39m\u001b[33mturns\u001b[39m\u001b[33m\"\u001b[39m][\u001b[32m0\u001b[39m][\u001b[33m\"\u001b[39m\u001b[33mvalidation_errors\u001b[39m\u001b[33m\"\u001b[39m])\n",
      "\u001b[31mIndexError\u001b[39m: list index out of range"
     ]
    }
   ],
   "source": [
    "i = 10\n",
    "print(result_obj[faild_list[i]][\"scenario\"])\n",
    "print(result_obj[faild_list[i]][\"conversations\"][0][\"turns\"][0][\"validation_errors\"])"
   ]
  },
  {
   "cell_type": "code",
   "execution_count": 9,
   "id": "54029d2a",
   "metadata": {},
   "outputs": [
    {
     "ename": "IndexError",
     "evalue": "list index out of range",
     "output_type": "error",
     "traceback": [
      "\u001b[31m---------------------------------------------------------------------------\u001b[39m",
      "\u001b[31mIndexError\u001b[39m                                Traceback (most recent call last)",
      "\u001b[36mCell\u001b[39m\u001b[36m \u001b[39m\u001b[32mIn[9]\u001b[39m\u001b[32m, line 1\u001b[39m\n\u001b[32m----> \u001b[39m\u001b[32m1\u001b[39m result_obj[\u001b[43mfaild_list\u001b[49m\u001b[43m[\u001b[49m\u001b[43mi\u001b[49m\u001b[43m]\u001b[49m]\n",
      "\u001b[31mIndexError\u001b[39m: list index out of range"
     ]
    }
   ],
   "source": [
    "result_obj[faild_list[i]]"
   ]
  },
  {
   "cell_type": "code",
   "execution_count": 26,
   "id": "664c739a",
   "metadata": {},
   "outputs": [
    {
     "name": "stdout",
     "output_type": "stream",
     "text": [
      "---\n",
      "**第一組 (Multiple)**\n",
      "總計有 200 個獨立案例。\n",
      "* 文件 'deepseek-v3-0324_results/BFCL_v3_multiple_deepseek-v3-0324_results_llamaindex.json':\n",
      "    * 成功案例數: 189 / 200\n",
      "* 文件 'deepseek-v3-0324_results/BFCL_v3_multiple_deepseek-v3-0324_results.json':\n",
      "    * 成功案例數: 188 / 200\n",
      "* **對比**: \n",
      "    * 兩邊都失敗的案例: 8\n",
      "---\n",
      "\n",
      "---\n",
      "**第二組 (Parallel)**\n",
      "總計有 200 個獨立案例。\n",
      "* 文件 'deepseek-v3-0324_results/BFCL_v3_parallel_deepseek-v3-0324_results_llamaindex.json':\n",
      "    * 成功案例數: 183 / 200\n",
      "* 文件 'deepseek-v3-0324_results/BFCL_v3_parallel_deepseek-v3-0324_results.json':\n",
      "    * 成功案例數: 178 / 200\n",
      "* **對比**: \n",
      "    * 兩邊都失敗的案例: 10\n",
      "---\n",
      "\n",
      "---\n",
      "**第三組 (Parallel Multiple)**\n",
      "總計有 200 個獨立案例。\n",
      "* 文件 'deepseek-v3-0324_results/BFCL_v3_parallel_multiple_deepseek-v3-0324_results_llamaindex.json':\n",
      "    * 成功案例數: 181 / 200\n",
      "* 文件 'deepseek-v3-0324_results/BFCL_v3_parallel_multiple_deepseek-v3-0324_results.json':\n",
      "    * 成功案例數: 174 / 200\n",
      "* **對比**: \n",
      "    * 兩邊都失敗的案例: 14\n",
      "---\n",
      "\n",
      "---\n",
      "**第四組 (Simple)**\n",
      "總計有 400 個獨立案例。\n",
      "* 文件 'deepseek-v3-0324_results/BFCL_v3_simple_deepseek-v3-0324_results_llamaindex.json':\n",
      "    * 成功案例數: 388 / 400\n",
      "* 文件 'deepseek-v3-0324_results/BFCL_v3_simple_deepseek-v3-0324_results.json':\n",
      "    * 成功案例數: 381 / 400\n",
      "* **對比**: \n",
      "    * 兩邊都失敗的案例: 8\n",
      "---\n",
      "\n"
     ]
    }
   ],
   "source": [
    "import json\n",
    "\n",
    "def load_json_stream(file_path):\n",
    "    \"\"\"\n",
    "    讀取一個包含多個連續JSON對象的文件。\n",
    "    \"\"\"\n",
    "    try:\n",
    "        with open(file_path, 'r', encoding='utf-8') as f:\n",
    "            file_content = f.read().replace('}\\n{', '},{')\n",
    "        json_array_string = f\"[{file_content}]\"\n",
    "        return json.loads(json_array_string)\n",
    "    except Exception:\n",
    "        try:\n",
    "            with open(file_path, 'r', encoding='utf-8') as f:\n",
    "                return [json.loads(line) for line in f if line.strip()]\n",
    "        except json.JSONDecodeError as e:\n",
    "            print(f\"解析文件 '{file_path}' 時出錯: {e}\")\n",
    "            return None\n",
    "\n",
    "def analyze_scenarios_by_id(file1_path, file2_path):\n",
    "    \"\"\"\n",
    "    以 scenario ID 為基準進行匹配和分析，並記錄僅存在於單一文件中的案例ID。\n",
    "    \"\"\"\n",
    "    data1 = load_json_stream(file1_path)\n",
    "    data2 = load_json_stream(file2_path)\n",
    "\n",
    "    if data1 is None or data2 is None:\n",
    "        return None\n",
    "\n",
    "    scenarios_f1 = {s['scenario']: s for s in data1}\n",
    "    scenarios_f2 = {s['scenario']: s for s in data2}\n",
    "\n",
    "    all_scenario_ids = set(scenarios_f1.keys()) | set(scenarios_f2.keys())\n",
    "    \n",
    "    # 初始化計數器和ID列表\n",
    "    success_f1 = 0\n",
    "    success_f2 = 0\n",
    "    both_failed = 0\n",
    "    only_in_f1_ids = []\n",
    "    only_in_f2_ids = []\n",
    "\n",
    "    for sid in all_scenario_ids:\n",
    "        scenario1 = scenarios_f1.get(sid)\n",
    "        scenario2 = scenarios_f2.get(sid)\n",
    "\n",
    "        in_f1 = scenario1 is not None\n",
    "        in_f2 = scenario2 is not None\n",
    "\n",
    "        is_s1_success = False\n",
    "        if in_f1:\n",
    "            is_s1_success = all(not turn.get('validation_errors') \n",
    "                                for conv in scenario1.get('conversations', []) \n",
    "                                for turn in conv.get('turns', []))\n",
    "            if is_s1_success:\n",
    "                success_f1 += 1\n",
    "\n",
    "        is_s2_success = False\n",
    "        if in_f2:\n",
    "            is_s2_success = all(not turn.get('validation_errors') \n",
    "                                for conv in scenario2.get('conversations', []) \n",
    "                                for turn in conv.get('turns', []))\n",
    "            if is_s2_success:\n",
    "                success_f2 += 1\n",
    "        \n",
    "        # --- 更新統計 ---\n",
    "        if in_f1 and not in_f2:\n",
    "            only_in_f1_ids.append(sid) # 收集ID\n",
    "        elif not in_f1 and in_f2:\n",
    "            only_in_f2_ids.append(sid) # 收集ID\n",
    "        elif in_f1 and in_f2:\n",
    "            if not is_s1_success and not is_s2_success:\n",
    "                both_failed += 1\n",
    "\n",
    "    return {\n",
    "        \"file1_path\": file1_path,\n",
    "        \"file2_path\": file2_path,\n",
    "        \"file1_total\": len(scenarios_f1),\n",
    "        \"file2_total\": len(scenarios_f2),\n",
    "        \"file1_success_count\": success_f1,\n",
    "        \"file2_success_count\": success_f2,\n",
    "        \"both_failed_count\": both_failed,\n",
    "        \"total_unique_scenarios\": len(all_scenario_ids),\n",
    "        # 返回排序後的ID列表\n",
    "        \"only_in_file1_ids\": sorted(only_in_f1_ids),\n",
    "        \"only_in_file2_ids\": sorted(only_in_f2_ids),\n",
    "    }\n",
    "\n",
    "# --- 主程序 ---\n",
    "file_pairs = {\n",
    "    \"第一組 (Multiple)\": (\"deepseek-v3-0324_results/BFCL_v3_multiple_deepseek-v3-0324_results_llamaindex.json\", \"deepseek-v3-0324_results/BFCL_v3_multiple_deepseek-v3-0324_results.json\"),\n",
    "    \"第二組 (Parallel)\": (\"deepseek-v3-0324_results/BFCL_v3_parallel_deepseek-v3-0324_results_llamaindex.json\", \"deepseek-v3-0324_results/BFCL_v3_parallel_deepseek-v3-0324_results.json\"),\n",
    "    \"第三組 (Parallel Multiple)\": (\"deepseek-v3-0324_results/BFCL_v3_parallel_multiple_deepseek-v3-0324_results_llamaindex.json\", \"deepseek-v3-0324_results/BFCL_v3_parallel_multiple_deepseek-v3-0324_results.json\"),\n",
    "    \"第四組 (Simple)\": (\"deepseek-v3-0324_results/BFCL_v3_simple_deepseek-v3-0324_results_llamaindex.json\", \"deepseek-v3-0324_results/BFCL_v3_simple_deepseek-v3-0324_results.json\")\n",
    "}\n",
    "\n",
    "# 遍歷每一對文件並打印新的分析結果\n",
    "for group_name, (file1, file2) in file_pairs.items():\n",
    "    results = analyze_scenarios_by_id(file1, file2)\n",
    "    if results:\n",
    "        print(\"---\")\n",
    "        print(f\"**{group_name}**\")\n",
    "        print(f\"總計有 {results['total_unique_scenarios']} 個獨立案例。\")\n",
    "        print(f\"* 文件 '{results['file1_path']}':\")\n",
    "        print(f\"    * 成功案例數: {results['file1_success_count']} / {results['file1_total']}\")\n",
    "        print(f\"* 文件 '{results['file2_path']}':\")\n",
    "        print(f\"    * 成功案例數: {results['file2_success_count']} / {results['file2_total']}\")\n",
    "        print(f\"* **對比**: \")\n",
    "        print(f\"    * 兩邊都失敗的案例: {results['both_failed_count']}\")\n",
    "        \n",
    "        # 新增邏輯：如果列表不為空，則打印數量和具體案例名\n",
    "        if results['only_in_file1_ids']:\n",
    "            print(f\"    * 僅存在於文件1的案例: {len(results['only_in_file1_ids'])}\")\n",
    "            print(f\"        * 案例名: {results['only_in_file1_ids']}\")\n",
    "        if results['only_in_file2_ids']:\n",
    "            print(f\"    * 僅存在於文件2的案例: {len(results['only_in_file2_ids'])}\")\n",
    "            print(f\"        * 案例名: {results['only_in_file2_ids']}\")\n",
    "        print(\"---\\n\")"
   ]
  },
  {
   "cell_type": "code",
   "execution_count": 25,
   "id": "c71075c9",
   "metadata": {},
   "outputs": [
    {
     "ename": "FileNotFoundError",
     "evalue": "[Errno 2] No such file or directory: 'Qwen3_results/BFCL_v3_multiple_Qwen3_results_llamaindex.json'",
     "output_type": "error",
     "traceback": [
      "\u001b[31m---------------------------------------------------------------------------\u001b[39m",
      "\u001b[31mFileNotFoundError\u001b[39m                         Traceback (most recent call last)",
      "\u001b[36mCell\u001b[39m\u001b[36m \u001b[39m\u001b[32mIn[25]\u001b[39m\u001b[32m, line 8\u001b[39m, in \u001b[36mload_json_stream\u001b[39m\u001b[34m(file_path)\u001b[39m\n\u001b[32m      7\u001b[39m \u001b[38;5;28;01mtry\u001b[39;00m:\n\u001b[32m----> \u001b[39m\u001b[32m8\u001b[39m     \u001b[38;5;28;01mwith\u001b[39;00m \u001b[38;5;28;43mopen\u001b[39;49m\u001b[43m(\u001b[49m\u001b[43mfile_path\u001b[49m\u001b[43m,\u001b[49m\u001b[43m \u001b[49m\u001b[33;43m'\u001b[39;49m\u001b[33;43mr\u001b[39;49m\u001b[33;43m'\u001b[39;49m\u001b[43m,\u001b[49m\u001b[43m \u001b[49m\u001b[43mencoding\u001b[49m\u001b[43m=\u001b[49m\u001b[33;43m'\u001b[39;49m\u001b[33;43mutf-8\u001b[39;49m\u001b[33;43m'\u001b[39;49m\u001b[43m)\u001b[49m \u001b[38;5;28;01mas\u001b[39;00m f:\n\u001b[32m      9\u001b[39m         file_content = f.read().replace(\u001b[33m'\u001b[39m\u001b[33m}\u001b[39m\u001b[38;5;130;01m\\n\u001b[39;00m\u001b[33m{\u001b[39m\u001b[33m'\u001b[39m, \u001b[33m'\u001b[39m\u001b[33m},\u001b[39m\u001b[33m{\u001b[39m\u001b[33m'\u001b[39m)\n",
      "\u001b[36mFile \u001b[39m\u001b[32m~/Desktop/project/benchmark/agent-performance-evaluator/.venv/lib/python3.11/site-packages/IPython/core/interactiveshell.py:343\u001b[39m, in \u001b[36m_modified_open\u001b[39m\u001b[34m(file, *args, **kwargs)\u001b[39m\n\u001b[32m    337\u001b[39m     \u001b[38;5;28;01mraise\u001b[39;00m \u001b[38;5;167;01mValueError\u001b[39;00m(\n\u001b[32m    338\u001b[39m         \u001b[33mf\u001b[39m\u001b[33m\"\u001b[39m\u001b[33mIPython won\u001b[39m\u001b[33m'\u001b[39m\u001b[33mt let you open fd=\u001b[39m\u001b[38;5;132;01m{\u001b[39;00mfile\u001b[38;5;132;01m}\u001b[39;00m\u001b[33m by default \u001b[39m\u001b[33m\"\u001b[39m\n\u001b[32m    339\u001b[39m         \u001b[33m\"\u001b[39m\u001b[33mas it is likely to crash IPython. If you know what you are doing, \u001b[39m\u001b[33m\"\u001b[39m\n\u001b[32m    340\u001b[39m         \u001b[33m\"\u001b[39m\u001b[33myou can use builtins\u001b[39m\u001b[33m'\u001b[39m\u001b[33m open.\u001b[39m\u001b[33m\"\u001b[39m\n\u001b[32m    341\u001b[39m     )\n\u001b[32m--> \u001b[39m\u001b[32m343\u001b[39m \u001b[38;5;28;01mreturn\u001b[39;00m \u001b[43mio_open\u001b[49m\u001b[43m(\u001b[49m\u001b[43mfile\u001b[49m\u001b[43m,\u001b[49m\u001b[43m \u001b[49m\u001b[43m*\u001b[49m\u001b[43margs\u001b[49m\u001b[43m,\u001b[49m\u001b[43m \u001b[49m\u001b[43m*\u001b[49m\u001b[43m*\u001b[49m\u001b[43mkwargs\u001b[49m\u001b[43m)\u001b[49m\n",
      "\u001b[31mFileNotFoundError\u001b[39m: [Errno 2] No such file or directory: 'Qwen3_results/BFCL_v3_multiple_Qwen3_results_llamaindex.json'",
      "\nDuring handling of the above exception, another exception occurred:\n",
      "\u001b[31mFileNotFoundError\u001b[39m                         Traceback (most recent call last)",
      "\u001b[36mCell\u001b[39m\u001b[36m \u001b[39m\u001b[32mIn[25]\u001b[39m\u001b[32m, line 98\u001b[39m\n\u001b[32m     96\u001b[39m \u001b[38;5;66;03m# 遍歷每一對文件並打印新的分析結果\u001b[39;00m\n\u001b[32m     97\u001b[39m \u001b[38;5;28;01mfor\u001b[39;00m group_name, (file1, file2) \u001b[38;5;129;01min\u001b[39;00m file_pairs.items():\n\u001b[32m---> \u001b[39m\u001b[32m98\u001b[39m     results = \u001b[43manalyze_scenarios_by_id\u001b[49m\u001b[43m(\u001b[49m\u001b[43mfile1\u001b[49m\u001b[43m,\u001b[49m\u001b[43m \u001b[49m\u001b[43mfile2\u001b[49m\u001b[43m)\u001b[49m\n\u001b[32m     99\u001b[39m     \u001b[38;5;28;01mif\u001b[39;00m results:\n\u001b[32m    100\u001b[39m         \u001b[38;5;28mprint\u001b[39m(\u001b[33m\"\u001b[39m\u001b[33m---\u001b[39m\u001b[33m\"\u001b[39m)\n",
      "\u001b[36mCell\u001b[39m\u001b[36m \u001b[39m\u001b[32mIn[25]\u001b[39m\u001b[32m, line 24\u001b[39m, in \u001b[36manalyze_scenarios_by_id\u001b[39m\u001b[34m(file1_path, file2_path)\u001b[39m\n\u001b[32m     20\u001b[39m \u001b[38;5;28;01mdef\u001b[39;00m\u001b[38;5;250m \u001b[39m\u001b[34manalyze_scenarios_by_id\u001b[39m(file1_path, file2_path):\n\u001b[32m     21\u001b[39m \u001b[38;5;250m    \u001b[39m\u001b[33;03m\"\"\"\u001b[39;00m\n\u001b[32m     22\u001b[39m \u001b[33;03m    以 scenario ID 為基準進行匹配和分析，並記錄僅存在於單一文件中的案例ID。\u001b[39;00m\n\u001b[32m     23\u001b[39m \u001b[33;03m    \"\"\"\u001b[39;00m\n\u001b[32m---> \u001b[39m\u001b[32m24\u001b[39m     data1 = \u001b[43mload_json_stream\u001b[49m\u001b[43m(\u001b[49m\u001b[43mfile1_path\u001b[49m\u001b[43m)\u001b[49m\n\u001b[32m     25\u001b[39m     data2 = load_json_stream(file2_path)\n\u001b[32m     27\u001b[39m     \u001b[38;5;28;01mif\u001b[39;00m data1 \u001b[38;5;129;01mis\u001b[39;00m \u001b[38;5;28;01mNone\u001b[39;00m \u001b[38;5;129;01mor\u001b[39;00m data2 \u001b[38;5;129;01mis\u001b[39;00m \u001b[38;5;28;01mNone\u001b[39;00m:\n",
      "\u001b[36mCell\u001b[39m\u001b[36m \u001b[39m\u001b[32mIn[25]\u001b[39m\u001b[32m, line 14\u001b[39m, in \u001b[36mload_json_stream\u001b[39m\u001b[34m(file_path)\u001b[39m\n\u001b[32m     12\u001b[39m \u001b[38;5;28;01mexcept\u001b[39;00m \u001b[38;5;167;01mException\u001b[39;00m:\n\u001b[32m     13\u001b[39m     \u001b[38;5;28;01mtry\u001b[39;00m:\n\u001b[32m---> \u001b[39m\u001b[32m14\u001b[39m         \u001b[38;5;28;01mwith\u001b[39;00m \u001b[38;5;28;43mopen\u001b[39;49m\u001b[43m(\u001b[49m\u001b[43mfile_path\u001b[49m\u001b[43m,\u001b[49m\u001b[43m \u001b[49m\u001b[33;43m'\u001b[39;49m\u001b[33;43mr\u001b[39;49m\u001b[33;43m'\u001b[39;49m\u001b[43m,\u001b[49m\u001b[43m \u001b[49m\u001b[43mencoding\u001b[49m\u001b[43m=\u001b[49m\u001b[33;43m'\u001b[39;49m\u001b[33;43mutf-8\u001b[39;49m\u001b[33;43m'\u001b[39;49m\u001b[43m)\u001b[49m \u001b[38;5;28;01mas\u001b[39;00m f:\n\u001b[32m     15\u001b[39m             \u001b[38;5;28;01mreturn\u001b[39;00m [json.loads(line) \u001b[38;5;28;01mfor\u001b[39;00m line \u001b[38;5;129;01min\u001b[39;00m f \u001b[38;5;28;01mif\u001b[39;00m line.strip()]\n\u001b[32m     16\u001b[39m     \u001b[38;5;28;01mexcept\u001b[39;00m json.JSONDecodeError \u001b[38;5;28;01mas\u001b[39;00m e:\n",
      "\u001b[36mFile \u001b[39m\u001b[32m~/Desktop/project/benchmark/agent-performance-evaluator/.venv/lib/python3.11/site-packages/IPython/core/interactiveshell.py:343\u001b[39m, in \u001b[36m_modified_open\u001b[39m\u001b[34m(file, *args, **kwargs)\u001b[39m\n\u001b[32m    336\u001b[39m \u001b[38;5;28;01mif\u001b[39;00m file \u001b[38;5;129;01min\u001b[39;00m {\u001b[32m0\u001b[39m, \u001b[32m1\u001b[39m, \u001b[32m2\u001b[39m}:\n\u001b[32m    337\u001b[39m     \u001b[38;5;28;01mraise\u001b[39;00m \u001b[38;5;167;01mValueError\u001b[39;00m(\n\u001b[32m    338\u001b[39m         \u001b[33mf\u001b[39m\u001b[33m\"\u001b[39m\u001b[33mIPython won\u001b[39m\u001b[33m'\u001b[39m\u001b[33mt let you open fd=\u001b[39m\u001b[38;5;132;01m{\u001b[39;00mfile\u001b[38;5;132;01m}\u001b[39;00m\u001b[33m by default \u001b[39m\u001b[33m\"\u001b[39m\n\u001b[32m    339\u001b[39m         \u001b[33m\"\u001b[39m\u001b[33mas it is likely to crash IPython. If you know what you are doing, \u001b[39m\u001b[33m\"\u001b[39m\n\u001b[32m    340\u001b[39m         \u001b[33m\"\u001b[39m\u001b[33myou can use builtins\u001b[39m\u001b[33m'\u001b[39m\u001b[33m open.\u001b[39m\u001b[33m\"\u001b[39m\n\u001b[32m    341\u001b[39m     )\n\u001b[32m--> \u001b[39m\u001b[32m343\u001b[39m \u001b[38;5;28;01mreturn\u001b[39;00m \u001b[43mio_open\u001b[49m\u001b[43m(\u001b[49m\u001b[43mfile\u001b[49m\u001b[43m,\u001b[49m\u001b[43m \u001b[49m\u001b[43m*\u001b[49m\u001b[43margs\u001b[49m\u001b[43m,\u001b[49m\u001b[43m \u001b[49m\u001b[43m*\u001b[49m\u001b[43m*\u001b[49m\u001b[43mkwargs\u001b[49m\u001b[43m)\u001b[49m\n",
      "\u001b[31mFileNotFoundError\u001b[39m: [Errno 2] No such file or directory: 'Qwen3_results/BFCL_v3_multiple_Qwen3_results_llamaindex.json'"
     ]
    }
   ],
   "source": [
    "import json\n",
    "\n",
    "def load_json_stream(file_path):\n",
    "    \"\"\"\n",
    "    讀取一個包含多個連續JSON對象的文件。\n",
    "    \"\"\"\n",
    "    try:\n",
    "        with open(file_path, 'r', encoding='utf-8') as f:\n",
    "            file_content = f.read().replace('}\\n{', '},{')\n",
    "        json_array_string = f\"[{file_content}]\"\n",
    "        return json.loads(json_array_string)\n",
    "    except Exception:\n",
    "        try:\n",
    "            with open(file_path, 'r', encoding='utf-8') as f:\n",
    "                return [json.loads(line) for line in f if line.strip()]\n",
    "        except json.JSONDecodeError as e:\n",
    "            print(f\"解析文件 '{file_path}' 時出錯: {e}\")\n",
    "            return None\n",
    "\n",
    "def analyze_scenarios_by_id(file1_path, file2_path):\n",
    "    \"\"\"\n",
    "    以 scenario ID 為基準進行匹配和分析，並記錄僅存在於單一文件中的案例ID。\n",
    "    \"\"\"\n",
    "    data1 = load_json_stream(file1_path)\n",
    "    data2 = load_json_stream(file2_path)\n",
    "\n",
    "    if data1 is None or data2 is None:\n",
    "        return None\n",
    "\n",
    "    scenarios_f1 = {s['scenario']: s for s in data1}\n",
    "    scenarios_f2 = {s['scenario']: s for s in data2}\n",
    "\n",
    "    all_scenario_ids = set(scenarios_f1.keys()) | set(scenarios_f2.keys())\n",
    "    \n",
    "    # 初始化計數器和ID列表\n",
    "    success_f1 = 0\n",
    "    success_f2 = 0\n",
    "    both_failed = 0\n",
    "    only_in_f1_ids = []\n",
    "    only_in_f2_ids = []\n",
    "\n",
    "    for sid in all_scenario_ids:\n",
    "        scenario1 = scenarios_f1.get(sid)\n",
    "        scenario2 = scenarios_f2.get(sid)\n",
    "\n",
    "        in_f1 = scenario1 is not None\n",
    "        in_f2 = scenario2 is not None\n",
    "\n",
    "        is_s1_success = False\n",
    "        if in_f1:\n",
    "            is_s1_success = all(not turn.get('validation_errors') \n",
    "                                for conv in scenario1.get('conversations', []) \n",
    "                                for turn in conv.get('turns', []))\n",
    "            if is_s1_success:\n",
    "                success_f1 += 1\n",
    "\n",
    "        is_s2_success = False\n",
    "        if in_f2:\n",
    "            is_s2_success = all(not turn.get('validation_errors') \n",
    "                                for conv in scenario2.get('conversations', []) \n",
    "                                for turn in conv.get('turns', []))\n",
    "            if is_s2_success:\n",
    "                success_f2 += 1\n",
    "        \n",
    "        # --- 更新統計 ---\n",
    "        if in_f1 and not in_f2:\n",
    "            only_in_f1_ids.append(sid) # 收集ID\n",
    "        elif not in_f1 and in_f2:\n",
    "            only_in_f2_ids.append(sid) # 收集ID\n",
    "        elif in_f1 and in_f2:\n",
    "            if not is_s1_success and not is_s2_success:\n",
    "                both_failed += 1\n",
    "\n",
    "    return {\n",
    "        \"file1_path\": file1_path,\n",
    "        \"file2_path\": file2_path,\n",
    "        \"file1_total\": len(scenarios_f1),\n",
    "        \"file2_total\": len(scenarios_f2),\n",
    "        \"file1_success_count\": success_f1,\n",
    "        \"file2_success_count\": success_f2,\n",
    "        \"both_failed_count\": both_failed,\n",
    "        \"total_unique_scenarios\": len(all_scenario_ids),\n",
    "        # 返回排序後的ID列表\n",
    "        \"only_in_file1_ids\": sorted(only_in_f1_ids),\n",
    "        \"only_in_file2_ids\": sorted(only_in_f2_ids),\n",
    "    }\n",
    "\n",
    "# --- 主程序 ---\n",
    "file_pairs = {\n",
    "    \"第一組 (Multiple)\": (\"Qwen3_results/BFCL_v3_multiple_Qwen3_results_llamaindex.json\", \"Qwen3_results/BFCL_v3_multiple_Qwen3_results.json\"),\n",
    "    \"第二組 (Parallel)\": (\"Qwen3_results/BFCL_v3_parallel_Qwen3_results_llamaindex.json\", \"Qwen3_results/BFCL_v3_parallel_Qwen3_results.json\"),\n",
    "    \"第三組 (Parallel Multiple)\": (\"Qwen3_results/BFCL_v3_parallel_multiple_Qwen3_results_llamaindex.json\", \"Qwen3_results/BFCL_v3_parallel_multiple_Qwen3_results.json\"),\n",
    "    \"第四組 (Simple)\": (\"Qwen3_results/BFCL_v3_simple_Qwen3_results_llamaindex.json\", \"Qwen3_results/BFCL_v3_simple_Qwen3_results.json\")\n",
    "}\n",
    "\n",
    "# 遍歷每一對文件並打印新的分析結果\n",
    "for group_name, (file1, file2) in file_pairs.items():\n",
    "    results = analyze_scenarios_by_id(file1, file2)\n",
    "    if results:\n",
    "        print(\"---\")\n",
    "        print(f\"**{group_name}**\")\n",
    "        print(f\"總計有 {results['total_unique_scenarios']} 個獨立案例。\")\n",
    "        print(f\"* 文件 '{results['file1_path']}':\")\n",
    "        print(f\"    * 成功案例數: {results['file1_success_count']} / {results['file1_total']}\")\n",
    "        print(f\"* 文件 '{results['file2_path']}':\")\n",
    "        print(f\"    * 成功案例數: {results['file2_success_count']} / {results['file2_total']}\")\n",
    "        print(f\"* **對比**: \")\n",
    "        print(f\"    * 兩邊都失敗的案例: {results['both_failed_count']}\")\n",
    "        \n",
    "        # 新增邏輯：如果列表不為空，則打印數量和具體案例名\n",
    "        if results['only_in_file1_ids']:\n",
    "            print(f\"    * 僅存在於文件1的案例: {len(results['only_in_file1_ids'])}\")\n",
    "            print(f\"        * 案例名: {results['only_in_file1_ids']}\")\n",
    "        if results['only_in_file2_ids']:\n",
    "            print(f\"    * 僅存在於文件2的案例: {len(results['only_in_file2_ids'])}\")\n",
    "            print(f\"        * 案例名: {results['only_in_file2_ids']}\")\n",
    "        print(\"---\\n\")"
   ]
  },
  {
   "cell_type": "code",
   "execution_count": null,
   "id": "3ad087bd",
   "metadata": {},
   "outputs": [],
   "source": []
  }
 ],
 "metadata": {
  "kernelspec": {
   "display_name": "agent-performance-evaluator (3.11.12)",
   "language": "python",
   "name": "python3"
  },
  "language_info": {
   "codemirror_mode": {
    "name": "ipython",
    "version": 3
   },
   "file_extension": ".py",
   "mimetype": "text/x-python",
   "name": "python",
   "nbconvert_exporter": "python",
   "pygments_lexer": "ipython3",
   "version": "3.11.12"
  }
 },
 "nbformat": 4,
 "nbformat_minor": 5
}
