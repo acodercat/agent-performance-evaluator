---
**第一組 (Multiple)**
總計有 200 個獨立案例。
* 文件 'deepseek-v3-0324_results/BFCL_v3_multiple_deepseek-v3-0324_results_llamaindex.json':
    * 成功案例數: 188 / 198
* 文件 'deepseek-v3-0324_results/BFCL_v3_multiple_deepseek-v3-0324_results.json':
    * 成功案例數: 189 / 200
* **對比**: 
    * 兩邊都失敗的案例: 8
    * 僅存在於文件2的案例: 2
        * 案例名: ['multiple_143', 'multiple_197']

{"accuracy": 0.945, "correct_count": 189, "total_count": 200}
---

---
**第二組 (Parallel)**
總計有 200 個獨立案例。
* 文件 'deepseek-v3-0324_results/BFCL_v3_parallel_deepseek-v3-0324_results_llamaindex.json':
    * 成功案例數: 171 / 200
* 文件 'deepseek-v3-0324_results/BFCL_v3_parallel_deepseek-v3-0324_results.json':
    * 成功案例數: 171 / 200
* **對比**: 
    * 兩邊都失敗的案例: 20

{"accuracy": 0.92, "correct_count": 184, "total_count": 200}
---

---
**第三組 (Parallel Multiple)**
總計有 200 個獨立案例。
* 文件 'deepseek-v3-0324_results/BFCL_v3_parallel_multiple_deepseek-v3-0324_results_llamaindex.json':
    * 成功案例數: 171 / 198
* 文件 'deepseek-v3-0324_results/BFCL_v3_parallel_multiple_deepseek-v3-0324_results.json':
    * 成功案例數: 175 / 200
* **對比**: 
    * 兩邊都失敗的案例: 17
    * 僅存在於文件2的案例: 2
        * 案例名: ['parallel_multiple_15', 'parallel_multiple_9']

{"accuracy": 0.885, "correct_count": 177, "total_count": 200}
---

---
**第四組 (Simple)**
總計有 400 個獨立案例。
* 文件 'deepseek-v3-0324_results/BFCL_v3_simple_deepseek-v3-0324_results_llamaindex.json':
    * 成功案例數: 387 / 399
* 文件 'deepseek-v3-0324_results/BFCL_v3_simple_deepseek-v3-0324_results.json':
    * 成功案例數: 380 / 400
* **對比**: 
    * 兩邊都失敗的案例: 9
    * 僅存在於文件2的案例: 1
        * 案例名: ['simple_348']

{"accuracy": 0.965, "correct_count": 386, "total_count": 400}
---

